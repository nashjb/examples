{
 "cells": [
  {
   "cell_type": "markdown",
   "id": "1db88f93-7ae7-4941-8219-0fe2fbd8e117",
   "metadata": {},
   "source": [
    "# SQL Ingestion Example"
   ]
  },
  {
   "cell_type": "markdown",
   "id": "faae1cf2-c033-4452-bfd2-3343dae0db3d",
   "metadata": {},
   "source": [
    "## Step 0: Setup MySQL Example Deployment"
   ]
  },
  {
   "cell_type": "code",
   "execution_count": null,
   "id": "6f928046-9306-43cc-a7d1-1e752eda0d13",
   "metadata": {},
   "outputs": [],
   "source": [
    "!curl -o /tmp/pachctl.deb -L https://github.com/pachyderm/pachyderm/releases/download/v2.1.0/pachctl_2.1.0_amd64.deb && sudo dpkg -i /tmp/pachctl.deb  "
   ]
  },
  {
   "cell_type": "code",
   "execution_count": 2,
   "id": "b66d9959-8a9a-4aaa-85ac-0058bf72ab5f",
   "metadata": {},
   "outputs": [
    {
     "name": "stdout",
     "output_type": "stream",
     "text": [
      "COMPONENT           VERSION             \n",
      "pachctl             2.1.0               \n",
      "pachd               2.1.0-rc.1          \n"
     ]
    }
   ],
   "source": [
    "!pachctl version"
   ]
  },
  {
   "cell_type": "code",
   "execution_count": 4,
   "id": "1bf217d8-b9e3-4b7d-a32b-35090befa9e6",
   "metadata": {},
   "outputs": [
    {
     "name": "stdout",
     "output_type": "stream",
     "text": [
      "Reading package lists... Done\n",
      "Building dependency tree       \n",
      "Reading state information... Done\n",
      "E: Unable to locate package kubectl\n"
     ]
    }
   ],
   "source": [
    "!sudo apt-get install kubectl"
   ]
  },
  {
   "cell_type": "code",
   "execution_count": 5,
   "id": "428ac7ad-733b-423d-a783-edc9d0717e81",
   "metadata": {},
   "outputs": [],
   "source": [
    "# Install Google Cloud\n",
    "!curl -O https://dl.google.com/dl/cloudsdk/channels/rapid/downloads/google-cloud-sdk-373.0.0-linux-x86_64.tar.gz\n",
    "\n",
    "!tar -xf google-cloud-sdk-373.0.0-linux-x86_64.tar.gz"
   ]
  },
  {
   "cell_type": "markdown",
   "id": "05e34851-b29d-4b57-a33c-f83485f45b14",
   "metadata": {},
   "source": [
    "Run `./google-cloud-sdk/install.sh` in a terminal. "
   ]
  },
  {
   "cell_type": "code",
   "execution_count": 10,
   "id": "f780083b-4347-43b9-b29d-eff1e00d358a",
   "metadata": {},
   "outputs": [],
   "source": [
    "# Connect to gcloud cluster\n",
    "!./google-cloud-sdk/bin/gcloud init\n",
    "#!gcloud container clusters get-credentials hub-c0-bklvo0tnhw --zone us-west1-a --project hub-c7nqm42bw7wj"
   ]
  },
  {
   "cell_type": "code",
   "execution_count": 11,
   "id": "74f7ed5a-8d4f-4a88-acd9-1d158dfb167b",
   "metadata": {},
   "outputs": [
    {
     "name": "stdout",
     "output_type": "stream",
     "text": [
      "Ign:1 https://developer.download.nvidia.com/compute/cuda/repos/ubuntu2004/x86_64  InRelease\n",
      "Ign:2 https://developer.download.nvidia.com/compute/machine-learning/repos/ubuntu2004/x86_64  InRelease\n",
      "Get:3 http://security.ubuntu.com/ubuntu focal-security InRelease [114 kB]  \n",
      "Get:4 https://developer.download.nvidia.com/compute/cuda/repos/ubuntu2004/x86_64  Release [696 B]\n",
      "Hit:5 https://developer.download.nvidia.com/compute/machine-learning/repos/ubuntu2004/x86_64  Release\n",
      "Get:6 https://developer.download.nvidia.com/compute/cuda/repos/ubuntu2004/x86_64  Release.gpg [836 B]\n",
      "Hit:8 http://archive.ubuntu.com/ubuntu focal InRelease                         \n",
      "Get:9 https://developer.download.nvidia.com/compute/cuda/repos/ubuntu2004/x86_64  Packages [599 kB]\n",
      "Get:10 http://archive.ubuntu.com/ubuntu focal-updates InRelease [114 kB]       \n",
      "Get:11 http://security.ubuntu.com/ubuntu focal-security/restricted amd64 Packages [982 kB]\n",
      "Get:12 http://security.ubuntu.com/ubuntu focal-security/universe amd64 Packages [842 kB]\n",
      "Get:13 http://security.ubuntu.com/ubuntu focal-security/multiverse amd64 Packages [25.8 kB]\n",
      "Get:14 http://security.ubuntu.com/ubuntu focal-security/main amd64 Packages [1,579 kB]\n",
      "Get:15 http://archive.ubuntu.com/ubuntu focal-backports InRelease [108 kB]     \n",
      "Get:16 http://archive.ubuntu.com/ubuntu focal-updates/restricted amd64 Packages [1,052 kB]\n",
      "Get:17 http://archive.ubuntu.com/ubuntu focal-updates/main amd64 Packages [2,008 kB]\n",
      "Get:18 http://archive.ubuntu.com/ubuntu focal-updates/universe amd64 Packages [1,136 kB]\n",
      "Get:19 http://archive.ubuntu.com/ubuntu focal-updates/multiverse amd64 Packages [29.4 kB]\n",
      "Get:20 http://archive.ubuntu.com/ubuntu focal-backports/universe amd64 Packages [25.2 kB]\n",
      "Fetched 8,617 kB in 2s (4,210 kB/s)                          \n",
      "Reading package lists... Done\n",
      "Reading package lists... Done\n",
      "Building dependency tree       \n",
      "Reading state information... Done\n",
      "ca-certificates is already the newest version (20210119~20.04.2).\n",
      "curl is already the newest version (7.68.0-1ubuntu2.7).\n",
      "The following NEW packages will be installed:\n",
      "  apt-transport-https\n",
      "0 upgraded, 1 newly installed, 0 to remove and 63 not upgraded.\n",
      "Need to get 4,680 B of archives.\n",
      "After this operation, 162 kB of additional disk space will be used.\n",
      "Get:1 http://archive.ubuntu.com/ubuntu focal-updates/universe amd64 apt-transport-https all 2.0.6 [4,680 B]\n",
      "Fetched 4,680 B in 0s (16.8 kB/s)               \n",
      "debconf: delaying package configuration, since apt-utils is not installed\n",
      "Selecting previously unselected package apt-transport-https.\n",
      "(Reading database ... 61026 files and directories currently installed.)\n",
      "Preparing to unpack .../apt-transport-https_2.0.6_all.deb ...\n",
      "Unpacking apt-transport-https (2.0.6) ...\n",
      "Setting up apt-transport-https (2.0.6) ...\n"
     ]
    }
   ],
   "source": [
    "!sudo apt-get update\n",
    "!sudo apt-get install -y apt-transport-https ca-certificates curl"
   ]
  },
  {
   "cell_type": "code",
   "execution_count": 13,
   "id": "cf693f45-543e-4632-b160-e409fd4ce0f2",
   "metadata": {},
   "outputs": [],
   "source": [
    "!sudo curl -fsSLo /usr/share/keyrings/kubernetes-archive-keyring.gpg https://packages.cloud.google.com/apt/doc/apt-key.gpg"
   ]
  },
  {
   "cell_type": "code",
   "execution_count": 14,
   "id": "250b0751-5056-4207-904e-df6657f9ffee",
   "metadata": {},
   "outputs": [
    {
     "name": "stdout",
     "output_type": "stream",
     "text": [
      "deb [signed-by=/usr/share/keyrings/kubernetes-archive-keyring.gpg] https://apt.kubernetes.io/ kubernetes-xenial main\n"
     ]
    }
   ],
   "source": [
    "!echo \"deb [signed-by=/usr/share/keyrings/kubernetes-archive-keyring.gpg] https://apt.kubernetes.io/ kubernetes-xenial main\" | sudo tee /etc/apt/sources.list.d/kubernetes.list"
   ]
  },
  {
   "cell_type": "code",
   "execution_count": 15,
   "id": "a831a723-5ca7-4c65-9f68-e39825efe593",
   "metadata": {},
   "outputs": [
    {
     "name": "stdout",
     "output_type": "stream",
     "text": [
      "Ign:2 https://developer.download.nvidia.com/compute/cuda/repos/ubuntu2004/x86_64  InRelease\n",
      "Ign:3 https://developer.download.nvidia.com/compute/machine-learning/repos/ubuntu2004/x86_64  InRelease\n",
      "Hit:4 https://developer.download.nvidia.com/compute/cuda/repos/ubuntu2004/x86_64  Release\n",
      "Get:1 https://packages.cloud.google.com/apt kubernetes-xenial InRelease [9,383 B]\n",
      "Hit:5 https://developer.download.nvidia.com/compute/machine-learning/repos/ubuntu2004/x86_64  Release\n",
      "Hit:7 http://security.ubuntu.com/ubuntu focal-security InRelease               \n",
      "Hit:8 http://archive.ubuntu.com/ubuntu focal InRelease\n",
      "Get:9 https://packages.cloud.google.com/apt kubernetes-xenial/main amd64 Packages [53.9 kB]\n",
      "Hit:11 http://archive.ubuntu.com/ubuntu focal-updates InRelease\n",
      "Hit:12 http://archive.ubuntu.com/ubuntu focal-backports InRelease\n",
      "Fetched 63.3 kB in 1s (91.4 kB/s)\n",
      "Reading package lists... Done\n",
      "Reading package lists... Done\n",
      "Building dependency tree       \n",
      "Reading state information... Done\n",
      "The following NEW packages will be installed:\n",
      "  kubectl\n",
      "0 upgraded, 1 newly installed, 0 to remove and 63 not upgraded.\n",
      "Need to get 8,927 kB of archives.\n",
      "After this operation, 46.6 MB of additional disk space will be used.\n",
      "Get:1 https://packages.cloud.google.com/apt kubernetes-xenial/main amd64 kubectl amd64 1.23.4-00 [8,927 kB]\n",
      "Fetched 8,927 kB in 0s (45.5 MB/s)\n",
      "debconf: delaying package configuration, since apt-utils is not installed\n",
      "Selecting previously unselected package kubectl.\n",
      "(Reading database ... 61030 files and directories currently installed.)\n",
      "Preparing to unpack .../kubectl_1.23.4-00_amd64.deb ...\n",
      "Unpacking kubectl (1.23.4-00) ...\n",
      "Setting up kubectl (1.23.4-00) ...\n"
     ]
    }
   ],
   "source": [
    "!sudo apt-get update\n",
    "!sudo apt-get install -y kubectl"
   ]
  },
  {
   "cell_type": "code",
   "execution_count": 16,
   "id": "a1f3d27f-3250-41fe-9f68-16f504e60817",
   "metadata": {},
   "outputs": [
    {
     "name": "stdout",
     "output_type": "stream",
     "text": [
      "Client Version: version.Info{Major:\"1\", Minor:\"23\", GitVersion:\"v1.23.4\", GitCommit:\"e6c093d87ea4cbb530a7b2ae91e54c0842d8308a\", GitTreeState:\"clean\", BuildDate:\"2022-02-16T12:38:05Z\", GoVersion:\"go1.17.7\", Compiler:\"gc\", Platform:\"linux/amd64\"}\n",
      "The connection to the server localhost:8080 was refused - did you specify the right host or port?\n"
     ]
    }
   ],
   "source": [
    "!kubectl version"
   ]
  },
  {
   "cell_type": "code",
   "execution_count": 20,
   "id": "14bf1ad4-6ff9-45b5-a190-f62982ebac64",
   "metadata": {},
   "outputs": [
    {
     "name": "stdout",
     "output_type": "stream",
     "text": [
      "/bin/bash: gcloud: command not found\n"
     ]
    }
   ],
   "source": [
    "!source /home/jovyan/.bashrc\n",
    "\n",
    "!gcloud container clusters get-credentials hub-c0-bklvo0tnhw --zone us-west1-a --project hub-c7nqm42bw7wj"
   ]
  },
  {
   "cell_type": "code",
   "execution_count": 21,
   "id": "5c866af9-53ce-4f73-abf0-c96f7024888e",
   "metadata": {
    "tags": []
   },
   "outputs": [
    {
     "name": "stdout",
     "output_type": "stream",
     "text": [
      "NAME                                        READY   STATUS    RESTARTS   AGE\n",
      "pod/cloudsql-auth-proxy-5974598467-5mkrz    1/1     Running   0          13d\n",
      "pod/console-7ff447689b-lc6xm                1/1     Running   0          8d\n",
      "pod/etcd-0                                  1/1     Running   0          13d\n",
      "pod/loki-0                                  1/1     Running   0          13d\n",
      "pod/loki-promtail-mnzz4                     1/1     Running   0          13d\n",
      "pod/mysql-68579b78bb-mqfn6                  1/1     Running   0          12d\n",
      "pod/pachd-6bc675bc7d-95mtf                  1/1     Running   0          13d\n",
      "pod/pg-bouncer-76d9cd855c-bbhzz             1/1     Running   0          13d\n",
      "pod/pipeline-edges-1-v1-ttt99               2/2     Running   0          173m\n",
      "pod/pipeline-montage-1-v1-wx9ll             2/2     Running   0          172m\n",
      "pod/pipeline-montage-2-v1-4brk4             2/2     Running   0          170m\n",
      "pod/release-name-traefik-7f7c776f84-xtzkv   1/1     Running   0          13d\n",
      "\n",
      "NAME                                          DESIRED   CURRENT   READY   AGE\n",
      "replicationcontroller/pipeline-edges-1-v1     1         1         1       173m\n",
      "replicationcontroller/pipeline-montage-1-v1   1         1         1       172m\n",
      "replicationcontroller/pipeline-montage-2-v1   1         1         1       170m\n",
      "\n",
      "NAME                            TYPE           CLUSTER-IP    EXTERNAL-IP     PORT(S)                                            AGE\n",
      "service/cloudsql-auth-proxy     ClusterIP      10.90.6.198   <none>          5432/TCP                                           13d\n",
      "service/console                 ClusterIP      10.90.10.28   <none>          4000/TCP                                           13d\n",
      "service/etcd                    ClusterIP      10.90.6.94    <none>          2379/TCP                                           13d\n",
      "service/etcd-headless           ClusterIP      None          <none>          2380/TCP                                           13d\n",
      "service/kubernetes              ClusterIP      10.90.0.1     <none>          443/TCP                                            13d\n",
      "service/loki                    ClusterIP      10.90.3.201   <none>          3100/TCP                                           13d\n",
      "service/loki-headless           ClusterIP      None          <none>          3100/TCP                                           13d\n",
      "service/mysql                   ClusterIP      None          <none>          3306/TCP                                           12d\n",
      "service/pachd                   ClusterIP      10.90.11.56   <none>          30650/TCP,30657/TCP,30658/TCP,30600/TCP,1656/TCP   13d\n",
      "service/pachd-lb                LoadBalancer   10.90.5.45    35.197.78.130   31400:30130/TCP,30600:30049/TCP                    13d\n",
      "service/pachd-peer              ClusterIP      10.90.4.137   <none>          30653/TCP                                          13d\n",
      "service/pg-bouncer              ClusterIP      10.90.6.243   <none>          5432/TCP                                           13d\n",
      "service/pipeline-edges-1-v1     ClusterIP      10.90.10.44   <none>          1080/TCP,9090/TCP                                  173m\n",
      "service/pipeline-montage-1-v1   ClusterIP      10.90.4.195   <none>          1080/TCP,9090/TCP                                  172m\n",
      "service/pipeline-montage-2-v1   ClusterIP      10.90.7.66    <none>          1080/TCP,9090/TCP                                  170m\n",
      "service/release-name-traefik    LoadBalancer   10.90.0.95    35.197.78.130   80:32318/TCP,443:30247/TCP                         13d\n",
      "\n",
      "NAME                           DESIRED   CURRENT   READY   UP-TO-DATE   AVAILABLE   NODE SELECTOR   AGE\n",
      "daemonset.apps/loki-promtail   1         1         1       1            1           <none>          13d\n",
      "\n",
      "NAME                                   READY   UP-TO-DATE   AVAILABLE   AGE\n",
      "deployment.apps/cloudsql-auth-proxy    1/1     1            1           13d\n",
      "deployment.apps/console                1/1     1            1           13d\n",
      "deployment.apps/mysql                  1/1     1            1           12d\n",
      "deployment.apps/pachd                  1/1     1            1           13d\n",
      "deployment.apps/pg-bouncer             1/1     1            1           13d\n",
      "deployment.apps/release-name-traefik   1/1     1            1           13d\n",
      "\n",
      "NAME                                              DESIRED   CURRENT   READY   AGE\n",
      "replicaset.apps/cloudsql-auth-proxy-5974598467    1         1         1       13d\n",
      "replicaset.apps/console-5fd879949d                0         0         0       13d\n",
      "replicaset.apps/console-6dc6dcf64                 0         0         0       8d\n",
      "replicaset.apps/console-7ff447689b                1         1         1       12d\n",
      "replicaset.apps/mysql-68579b78bb                  1         1         1       12d\n",
      "replicaset.apps/pachd-6bc675bc7d                  1         1         1       13d\n",
      "replicaset.apps/pg-bouncer-76d9cd855c             1         1         1       13d\n",
      "replicaset.apps/release-name-traefik-7f7c776f84   1         1         1       13d\n",
      "\n",
      "NAME                    READY   AGE\n",
      "statefulset.apps/etcd   1/1     13d\n",
      "statefulset.apps/loki   1/1     13d\n"
     ]
    }
   ],
   "source": [
    "!kubectl get all"
   ]
  },
  {
   "cell_type": "markdown",
   "id": "4503df8a-64ad-4b87-8e4b-dd5090975bdc",
   "metadata": {},
   "source": [
    "# Start MySQL"
   ]
  },
  {
   "cell_type": "code",
   "execution_count": 29,
   "id": "815968d3-db6d-42a6-a0d7-e34473b162f5",
   "metadata": {},
   "outputs": [
    {
     "name": "stdout",
     "output_type": "stream",
     "text": [
      "service/mysql configured\n",
      "statefulset.apps/mysql created\n",
      "secret/mysql-creds created\n"
     ]
    }
   ],
   "source": [
    "!kubectl apply -f mysql.yaml"
   ]
  },
  {
   "cell_type": "code",
   "execution_count": 33,
   "id": "2e519b44-11ad-4f92-83f6-534fa0b1bf95",
   "metadata": {},
   "outputs": [
    {
     "name": "stdout",
     "output_type": "stream",
     "text": [
      "NAME                                        READY   STATUS    RESTARTS   AGE\n",
      "pod/cloudsql-auth-proxy-5974598467-5mkrz    1/1     Running   0          13d\n",
      "pod/console-7ff447689b-lc6xm                1/1     Running   0          8d\n",
      "pod/etcd-0                                  1/1     Running   0          13d\n",
      "pod/loki-0                                  1/1     Running   0          13d\n",
      "pod/loki-promtail-mnzz4                     1/1     Running   0          13d\n",
      "pod/mysql-0                                 1/1     Running   0          65s\n",
      "pod/mysql-68579b78bb-mqfn6                  1/1     Running   0          12d\n",
      "pod/pachd-6bc675bc7d-95mtf                  1/1     Running   0          13d\n",
      "pod/pg-bouncer-76d9cd855c-bbhzz             1/1     Running   0          13d\n",
      "pod/pipeline-edges-1-v1-ttt99               2/2     Running   0          3h5m\n",
      "pod/pipeline-montage-1-v1-wx9ll             2/2     Running   0          3h4m\n",
      "pod/pipeline-montage-2-v1-4brk4             2/2     Running   0          3h2m\n",
      "pod/release-name-traefik-7f7c776f84-xtzkv   1/1     Running   0          13d\n",
      "\n",
      "NAME                                          DESIRED   CURRENT   READY   AGE\n",
      "replicationcontroller/pipeline-edges-1-v1     1         1         1       3h5m\n",
      "replicationcontroller/pipeline-montage-1-v1   1         1         1       3h4m\n",
      "replicationcontroller/pipeline-montage-2-v1   1         1         1       3h2m\n",
      "\n",
      "NAME                            TYPE           CLUSTER-IP    EXTERNAL-IP     PORT(S)                                            AGE\n",
      "service/cloudsql-auth-proxy     ClusterIP      10.90.6.198   <none>          5432/TCP                                           13d\n",
      "service/console                 ClusterIP      10.90.10.28   <none>          4000/TCP                                           13d\n",
      "service/etcd                    ClusterIP      10.90.6.94    <none>          2379/TCP                                           13d\n",
      "service/etcd-headless           ClusterIP      None          <none>          2380/TCP                                           13d\n",
      "service/kubernetes              ClusterIP      10.90.0.1     <none>          443/TCP                                            13d\n",
      "service/loki                    ClusterIP      10.90.3.201   <none>          3100/TCP                                           13d\n",
      "service/loki-headless           ClusterIP      None          <none>          3100/TCP                                           13d\n",
      "service/mysql                   ClusterIP      None          <none>          3306/TCP                                           12d\n",
      "service/pachd                   ClusterIP      10.90.11.56   <none>          30650/TCP,30657/TCP,30658/TCP,30600/TCP,1656/TCP   13d\n",
      "service/pachd-lb                LoadBalancer   10.90.5.45    35.197.78.130   31400:30130/TCP,30600:30049/TCP                    13d\n",
      "service/pachd-peer              ClusterIP      10.90.4.137   <none>          30653/TCP                                          13d\n",
      "service/pg-bouncer              ClusterIP      10.90.6.243   <none>          5432/TCP                                           13d\n",
      "service/pipeline-edges-1-v1     ClusterIP      10.90.10.44   <none>          1080/TCP,9090/TCP                                  3h5m\n",
      "service/pipeline-montage-1-v1   ClusterIP      10.90.4.195   <none>          1080/TCP,9090/TCP                                  3h4m\n",
      "service/pipeline-montage-2-v1   ClusterIP      10.90.7.66    <none>          1080/TCP,9090/TCP                                  3h2m\n",
      "service/release-name-traefik    LoadBalancer   10.90.0.95    35.197.78.130   80:32318/TCP,443:30247/TCP                         13d\n",
      "\n",
      "NAME                           DESIRED   CURRENT   READY   UP-TO-DATE   AVAILABLE   NODE SELECTOR   AGE\n",
      "daemonset.apps/loki-promtail   1         1         1       1            1           <none>          13d\n",
      "\n",
      "NAME                                   READY   UP-TO-DATE   AVAILABLE   AGE\n",
      "deployment.apps/cloudsql-auth-proxy    1/1     1            1           13d\n",
      "deployment.apps/console                1/1     1            1           13d\n",
      "deployment.apps/mysql                  1/1     1            1           12d\n",
      "deployment.apps/pachd                  1/1     1            1           13d\n",
      "deployment.apps/pg-bouncer             1/1     1            1           13d\n",
      "deployment.apps/release-name-traefik   1/1     1            1           13d\n",
      "\n",
      "NAME                                              DESIRED   CURRENT   READY   AGE\n",
      "replicaset.apps/cloudsql-auth-proxy-5974598467    1         1         1       13d\n",
      "replicaset.apps/console-5fd879949d                0         0         0       13d\n",
      "replicaset.apps/console-6dc6dcf64                 0         0         0       8d\n",
      "replicaset.apps/console-7ff447689b                1         1         1       13d\n",
      "replicaset.apps/mysql-68579b78bb                  1         1         1       12d\n",
      "replicaset.apps/pachd-6bc675bc7d                  1         1         1       13d\n",
      "replicaset.apps/pg-bouncer-76d9cd855c             1         1         1       13d\n",
      "replicaset.apps/release-name-traefik-7f7c776f84   1         1         1       13d\n",
      "\n",
      "NAME                     READY   AGE\n",
      "statefulset.apps/etcd    1/1     13d\n",
      "statefulset.apps/loki    1/1     13d\n",
      "statefulset.apps/mysql   1/1     67s\n"
     ]
    }
   ],
   "source": [
    "!kubectl get all"
   ]
  },
  {
   "cell_type": "markdown",
   "id": "7944a1c5-8857-4a9b-8f34-1a73932e26c5",
   "metadata": {},
   "source": [
    "## Create MySQL Table and Configure It"
   ]
  },
  {
   "cell_type": "code",
   "execution_count": 34,
   "id": "f9a4c507-743b-46d5-b1eb-73a4d965710d",
   "metadata": {},
   "outputs": [
    {
     "name": "stdout",
     "output_type": "stream",
     "text": [
      "\n",
      "MYSQL_HOST=127.0.0.1\n",
      "MYSQL_USER=root\n",
      "MYSQL_PASSWORD=root\n",
      "\n",
      "kubectl exec -it mysql-0 -- mysql --host=$MYSQL_HOST --user=$MYSQL_USER --password=$MYSQL_PASSWORD --execute=\"CREATE DATABASE test_db;\"\n",
      "mysql: [Warning] Using a password on the command line interface can be insecure.\n",
      "\n",
      "kubectl exec -it mysql-0 -- mysql --host=$MYSQL_HOST --user=$MYSQL_USER --password=$MYSQL_PASSWORD --database=test_db --execute=\"CREATE TABLE test_data (id SERIAL PRIMARY KEY, a VARCHAR(200));\"\n",
      "mysql: [Warning] Using a password on the command line interface can be insecure.\n"
     ]
    }
   ],
   "source": [
    "!./setup_mysql.sh"
   ]
  },
  {
   "cell_type": "markdown",
   "id": "6eef75c3-58ec-47dc-af6b-3fffa39edf7e",
   "metadata": {},
   "source": [
    "## Create Pachyderm SQL Ingestion Pipelines"
   ]
  },
  {
   "cell_type": "code",
   "execution_count": 53,
   "id": "78f94bd4-c655-4287-a45d-f4000cc3fcac",
   "metadata": {},
   "outputs": [],
   "source": [
    "!./create_sql_ingest.sh"
   ]
  },
  {
   "cell_type": "code",
   "execution_count": 55,
   "id": "22b50f17-ed5c-406a-8e93-b06d227fbeb3",
   "metadata": {},
   "outputs": [
    {
     "name": "stdout",
     "output_type": "stream",
     "text": [
      "NAME             VERSION INPUT                     CREATED       STATE / LAST JOB  DESCRIPTION                                                                              \n",
      "myingest         1       myingest_queries:/*       5 seconds ago \u001b[32mrunning\u001b[0m / -                                                                                                \n",
      "myingest_queries 1       in:@every 30s             6 seconds ago \u001b[32mrunning\u001b[0m / -                                                                                                \n",
      "montage-2        1       (montage-1:/ ⨯ edges-1:/) 3 hours ago   \u001b[32mrunning\u001b[0m / \u001b[32msuccess\u001b[0m A pipeline that combines images from montage-1@master and edges-1@master into a montage. \n",
      "montage-1        1       (images:/ ⨯ edges-1:/)    3 hours ago   \u001b[32mrunning\u001b[0m / \u001b[32msuccess\u001b[0m A pipeline that combines images from images@master and edges-1@master into a montage.    \n",
      "edges-1          1       images:/*                 3 hours ago   \u001b[32mrunning\u001b[0m / \u001b[32msuccess\u001b[0m OpenCV edge detection on images                                                          \n"
     ]
    }
   ],
   "source": [
    "!pachctl list pipeline"
   ]
  },
  {
   "cell_type": "markdown",
   "id": "66b26368-ae9d-46d7-b477-95a8209c4290",
   "metadata": {},
   "source": [
    "## Add rows to SQL Database"
   ]
  },
  {
   "cell_type": "code",
   "execution_count": 58,
   "id": "f374f960-5b8a-4fdb-910f-fc5b926006a7",
   "metadata": {},
   "outputs": [
    {
     "name": "stdout",
     "output_type": "stream",
     "text": [
      "\n",
      "MYSQL_HOST=127.0.0.1\n",
      "MYSQL_USER=root\n",
      "MYSQL_PASSWORD=root\n",
      "\n",
      "kubectl exec -it mysql-0 -- mysql --host=$MYSQL_HOST --user=$MYSQL_USER --password=$MYSQL_PASSWORD --database=test_db --execute='INSERT INTO test_data (a) VALUES (\"hello world\");'\n",
      "mysql: [Warning] Using a password on the command line interface can be insecure.\n",
      " "
     ]
    }
   ],
   "source": [
    "!./insert_mysql.sh"
   ]
  },
  {
   "cell_type": "markdown",
   "id": "8f7b50a7-a443-4d3c-9e42-28745d1639cd",
   "metadata": {},
   "source": [
    "## Clean Up Example"
   ]
  },
  {
   "cell_type": "code",
   "execution_count": 51,
   "id": "bcbbf2a4-e292-48d1-9fe4-6af90f0c31e2",
   "metadata": {},
   "outputs": [],
   "source": [
    "!pachctl delete pipeline myingest\n",
    "!pachctl delete pipeline myingest_queries"
   ]
  },
  {
   "cell_type": "code",
   "execution_count": null,
   "id": "a13a69cd-9ad9-4560-b1be-fb50be130178",
   "metadata": {},
   "outputs": [],
   "source": []
  }
 ],
 "metadata": {
  "kernelspec": {
   "display_name": "Python 3 (ipykernel)",
   "language": "python",
   "name": "python3"
  },
  "language_info": {
   "codemirror_mode": {
    "name": "ipython",
    "version": 3
   },
   "file_extension": ".py",
   "mimetype": "text/x-python",
   "name": "python",
   "nbconvert_exporter": "python",
   "pygments_lexer": "ipython3",
   "version": "3.9.7"
  }
 },
 "nbformat": 4,
 "nbformat_minor": 5
}
