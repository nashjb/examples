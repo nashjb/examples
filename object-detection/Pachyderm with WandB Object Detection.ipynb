{
 "cells": [
  {
   "cell_type": "markdown",
   "id": "7e7ea2ea-717c-4968-8985-54c1072cef9b",
   "metadata": {},
   "source": [
    "[![Open In Colab](https://colab.research.google.com/assets/colab-badge.svg)](https://colab.research.google.com/github/pachyderm/examples/blob/master/object-detection/Pachyderm%20with%20WandB%20Object%20Detection.ipynb)\n",
    "<!--- @wandbcode{pach_wandb} -->"
   ]
  },
  {
   "cell_type": "markdown",
   "id": "273aaf5c-80ea-4d8a-9bbc-721b25afe07e",
   "metadata": {
    "tags": []
   },
   "source": [
    "# Object Detection: Pachyderm with Weights and Biases\n",
    "\n",
    "This example illustrates a common Object Detection use case using [Pachyderm](https://www.pachyderm.com/), [Weights and Biases](https://docs.wandb.ai/), and [Lightning Flash](https://lightning-flash.readthedocs.io/en/latest/). \n",
    "\n",
    "<p align=\"center\">\n",
    "\t<img src='images/wandb_diagram.png' width='500' title='Pachyderm'>\n",
    "</p>\n",
    "\n",
    "This demo mimics the object detection [example from Lightning Flash](https://lightning-flash.readthedocs.io/en/stable/reference/object_detection.html#example). We extend the example to use to log our training runs with Weights and Biases. \n",
    "\n",
    "<p align=\"center\">\n",
    "\t<img src='images/training_diagram.png' width='500' title='WandB'>\n",
    "</p>"
   ]
  },
  {
   "cell_type": "markdown",
   "id": "4a01a138-659f-4259-86a1-d0991d66aba3",
   "metadata": {},
   "source": [
    "## Step 0: Setup\n",
    "Before getting started, make sure you have a Pachyderm cluster and a W&B account. \n",
    "\n",
    "1. Create a [Pachyderm cluster](https://docs.pachyderm.com/latest/getting_started/).\n",
    "2. Create a [W&B Account](https://wandb.ai/) "
   ]
  },
  {
   "cell_type": "markdown",
   "id": "d9d2fbab-141d-47e9-9eb4-977c7281e022",
   "metadata": {
    "tags": []
   },
   "source": [
    "## Step 1: Upload Dataset"
   ]
  },
  {
   "cell_type": "code",
   "execution_count": null,
   "id": "f2d55c01-6d43-4c13-b038-fdc5c1927496",
   "metadata": {
    "collapsed": true,
    "jupyter": {
     "outputs_hidden": true
    },
    "tags": []
   },
   "outputs": [],
   "source": [
    "!wget https://github.com/zhiqwang/yolov5-rt-stack/releases/download/v0.3.0/coco128.zip\n",
    "!unzip coco128.zip"
   ]
  },
  {
   "cell_type": "code",
   "execution_count": 3,
   "id": "0a2588bf-60a1-4862-a8c4-14635d587840",
   "metadata": {},
   "outputs": [],
   "source": [
    "!pachctl create repo coco128"
   ]
  },
  {
   "cell_type": "code",
   "execution_count": null,
   "id": "5f8cebfc-484b-4518-88b1-58a4785f1561",
   "metadata": {
    "collapsed": true,
    "jupyter": {
     "outputs_hidden": true
    },
    "tags": []
   },
   "outputs": [],
   "source": [
    "!pachctl put file -r coco128@master:/coco128/ -f coco128"
   ]
  },
  {
   "cell_type": "markdown",
   "id": "2905b7c2-efab-4f76-b576-063f84b7e7e2",
   "metadata": {},
   "source": [
    "## Step 2: Train Model\n",
    "Our model pipeline will train an object detection model on our dataset. "
   ]
  },
  {
   "cell_type": "markdown",
   "id": "e11b8d47-ed24-433a-93ca-155ecf4498b5",
   "metadata": {},
   "source": [
    "Our model pipeline will train an object detection model on our dataset, tracking it with [Weights and Biases](https://wandb.ai/site) by configuring a Pachyderm secret and deploying the [model_wandb.json pipeline](pachyderm/model_wandb.json).\n",
    "\n",
    "You can see more about the W&B integration [here](https://github.com/pachyderm/examples/tree/master/weights_and_biases)."
   ]
  },
  {
   "cell_type": "code",
   "execution_count": null,
   "id": "564fd356-75a8-4ea0-9a8f-86bdb78cb826",
   "metadata": {},
   "outputs": [],
   "source": [
    "# Create wandb secret\n",
    "!pachctl create secret -f wandb_secret.json"
   ]
  },
  {
   "cell_type": "code",
   "execution_count": 5,
   "id": "913a4310-2437-46e1-ae5b-39e1951d170f",
   "metadata": {},
   "outputs": [],
   "source": [
    "!pachctl create pipeline -f pachyderm/model_wandb.json"
   ]
  },
  {
   "cell_type": "markdown",
   "id": "877573a5-c614-4688-b201-5c6f731f7801",
   "metadata": {},
   "source": [
    "## Step 3: Update Training Dataset\n",
    "Now that we've deployed our training pipeline, any changes to our input dataset will trigger a new training job. All training runs will log to Weights and Biases, with the job name referencing the Run ID (Global ID) in Pachyderm. "
   ]
  },
  {
   "cell_type": "code",
   "execution_count": null,
   "id": "dad3953e-6e11-4335-a4ba-9353a491cb4d",
   "metadata": {},
   "outputs": [],
   "source": [
    "!pachctl put file -r coco128@master:/coco128/images/train2017/dog1.jpeg -f images/dog1.jpeg"
   ]
  },
  {
   "cell_type": "markdown",
   "id": "ba2f11b0-82b3-442d-beec-799163c65cfe",
   "metadata": {},
   "source": [
    "Now, everytime we sync our manual edits from Label Studio, it will automatically update our source dataset and kick off a retraining of our object detection model. "
   ]
  },
  {
   "cell_type": "markdown",
   "id": "99025e62-4524-4813-b709-d78fba20c491",
   "metadata": {},
   "source": [
    "## Clean up"
   ]
  },
  {
   "cell_type": "code",
   "execution_count": 2,
   "id": "4a3731a3-fd86-4624-9cec-564cf2ceec18",
   "metadata": {},
   "outputs": [],
   "source": [
    "!pachctl delete pipeline model\n",
    "!pachctl delete repo coco128"
   ]
  }
 ],
 "metadata": {
  "kernelspec": {
   "display_name": "Python 3 (ipykernel)",
   "language": "python",
   "name": "python3"
  },
  "language_info": {
   "codemirror_mode": {
    "name": "ipython",
    "version": 3
   },
   "file_extension": ".py",
   "mimetype": "text/x-python",
   "name": "python",
   "nbconvert_exporter": "python",
   "pygments_lexer": "ipython3",
   "version": "3.9.10"
  }
 },
 "nbformat": 4,
 "nbformat_minor": 5
}
