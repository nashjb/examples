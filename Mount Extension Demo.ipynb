{
 "cells": [
  {
   "cell_type": "markdown",
   "id": "e5295674-9cf7-440c-b334-1c9dba939b78",
   "metadata": {},
   "source": [
    "# JupyterLab Pachyderm Mount Extension Demo\n",
    "\n",
    "<img src=\"images/jl_mount_ext.png\" alt=\"Drawing\" style=\"width: 600px;\"/>\n",
    "\n",
    "The JupyterLab Pachyderm Mount Extension makes it easy for you to work with Pachyderm data in your JupyterLab environment. In this notebook we'll walk through a very basic example to show you how easy it is to version data and reference it inside your environment. "
   ]
  },
  {
   "cell_type": "markdown",
   "id": "73e53218-9c6a-4168-99a0-357b99bf0bc8",
   "metadata": {},
   "source": [
    "### Create a Pachyderm Data Repository\n",
    "\n",
    "The first thing we'll do is create a data repository."
   ]
  },
  {
   "cell_type": "code",
   "execution_count": 1,
   "id": "9f3085c8-04a1-467f-9b0c-1e24b7ad9ef8",
   "metadata": {},
   "outputs": [],
   "source": [
    "!pachctl create repo data"
   ]
  },
  {
   "cell_type": "markdown",
   "id": "8fbd9e37-5a2c-4522-a93e-7708ae01dbdb",
   "metadata": {},
   "source": [
    "### Create a file\n",
    "Next we'll push a file to our data repo. This file will just hold the text \"Version 1 of file!\" in it."
   ]
  },
  {
   "cell_type": "code",
   "execution_count": 2,
   "id": "517f1029-9de1-4204-aa27-ee739d6c0251",
   "metadata": {},
   "outputs": [
    {
     "name": "stdout",
     "output_type": "stream",
     "text": [
      "stdin 19.00 b / 19.00 b [==========================================] 0s 0.00 b/s\n",
      "\u001b[1A\u001b[Jstdin 19.00 b / 19.00 b [==========================================] 0s 0.00 b/s\n",
      "\u001b[1A\u001b[Jstdin 19.00 b / 19.00 b [==========================================] 0s 0.00 b/s\n",
      "\u001b[1A\u001b[Jstdin 19.00 b / 19.00 b [==========================================] 0s 0.00 b/s\n"
     ]
    }
   ],
   "source": [
    "!echo \"Version 1 of file!\" | pachctl put file data@master:/myfile.txt"
   ]
  },
  {
   "cell_type": "markdown",
   "id": "3d4f0328",
   "metadata": {},
   "source": [
    "We should now see the repo present in the extension side panel. By pressing mount for `data@master` we will see our files populate our file system in the browser panel. \n",
    "\n",
    "Data is mounted in the location `/pfs/` so if we run the following command, we should see the output of the file. "
   ]
  },
  {
   "cell_type": "code",
   "execution_count": 3,
   "id": "5eae6205-0e29-4eb3-80f7-a9c1f202900f",
   "metadata": {},
   "outputs": [
    {
     "name": "stdout",
     "output_type": "stream",
     "text": [
      "Version 1 of file!\n"
     ]
    }
   ],
   "source": [
    "# Use mount extension to mount data@master\n",
    "!cat /pfs/data/myfile.txt"
   ]
  },
  {
   "cell_type": "markdown",
   "id": "ba3ca905-c100-47aa-9ab9-e719f0c3e636",
   "metadata": {},
   "source": [
    "### Use a branch to reference `Version 1`. \n",
    "For now, the extension only shows you labeled branches of the data repo you're working with. To create a new branch, you can run the following: "
   ]
  },
  {
   "cell_type": "code",
   "execution_count": 4,
   "id": "311fcdde-5c33-413f-8c52-0fe4e8917e43",
   "metadata": {},
   "outputs": [],
   "source": [
    "!pachctl create branch data@v1 --head master"
   ]
  },
  {
   "cell_type": "markdown",
   "id": "6a3223c1",
   "metadata": {},
   "source": [
    "Now we can unmount the master branch and mount `v1` of our data and we should see the same thing as before. "
   ]
  },
  {
   "cell_type": "code",
   "execution_count": 5,
   "id": "1e0b302c-10e8-4890-addd-bd888dde61e3",
   "metadata": {},
   "outputs": [
    {
     "name": "stdout",
     "output_type": "stream",
     "text": [
      "Version 1 of file!\n"
     ]
    }
   ],
   "source": [
    "# Use mount extension to mount data@v1\n",
    "!cat /pfs/data/myfile.txt"
   ]
  },
  {
   "cell_type": "markdown",
   "id": "1df1f4bb-4112-4da9-93a6-883b0b1413ab",
   "metadata": {},
   "source": [
    "### Update my file\n",
    "Now if we update the file on our master branch, we can switch over to `master` and see the status of our file. "
   ]
  },
  {
   "cell_type": "code",
   "execution_count": 6,
   "id": "ef32a469-aed4-43f9-ae80-7974c71cf404",
   "metadata": {},
   "outputs": [
    {
     "name": "stdout",
     "output_type": "stream",
     "text": [
      "stdin 19.00 b / 19.00 b [==========================================] 0s 0.00 b/s\n",
      "\u001b[1A\u001b[Jstdin 19.00 b / 19.00 b [==========================================] 0s 0.00 b/s\n",
      "\u001b[1A\u001b[Jstdin 19.00 b / 19.00 b [==========================================] 0s 0.00 b/s\n",
      "\u001b[1A\u001b[Jstdin 19.00 b / 19.00 b [==========================================] 0s 0.00 b/s\n"
     ]
    }
   ],
   "source": [
    "!echo \"Version 2 of file!\" | pachctl put file data@master:/myfile.txt"
   ]
  },
  {
   "cell_type": "code",
   "execution_count": 7,
   "id": "da702160-54e0-4261-a68a-c237b91eb547",
   "metadata": {},
   "outputs": [
    {
     "name": "stdout",
     "output_type": "stream",
     "text": [
      "Version 2 of file!\n"
     ]
    }
   ],
   "source": [
    "# Use mount extension to mount data@master\n",
    "!cat /pfs/data/myfile.txt"
   ]
  },
  {
   "cell_type": "markdown",
   "id": "ef68eaff",
   "metadata": {},
   "source": [
    "### Exploring Images\n",
    "We can also use the extension to mount all types of data including images. Let's create a repo, add some data, and mount it so we can explore it in JupyterLab. "
   ]
  },
  {
   "cell_type": "code",
   "execution_count": null,
   "id": "17e14a0a",
   "metadata": {},
   "outputs": [],
   "source": [
    "!pachctl create repo images"
   ]
  },
  {
   "cell_type": "code",
   "execution_count": null,
   "id": "aefefdec",
   "metadata": {},
   "outputs": [],
   "source": [
    "!pachctl put file images@master:liberty.png -f http://imgur.com/46Q8nDz.png\n",
    "!pachctl put file images@master:AT-AT.png -f http://imgur.com/8MN9Kg0.png\n",
    "!pachctl put file images@master:kitten.png -f http://imgur.com/g2QnNqa.png"
   ]
  },
  {
   "cell_type": "markdown",
   "id": "3096f4dc-e71a-4cd4-a097-ebfd1207d805",
   "metadata": {},
   "source": [
    "### Clean Up\n",
    "Now we can clean up the repo and everything we've done. "
   ]
  },
  {
   "cell_type": "code",
   "execution_count": 10,
   "id": "f6b9838a-4633-49dd-9270-92c88572150d",
   "metadata": {},
   "outputs": [],
   "source": [
    "# !pachctl delete repo data\n",
    "# !pachctl delete repo images"
   ]
  }
 ],
 "metadata": {
  "kernelspec": {
   "display_name": "Python 3 (ipykernel)",
   "language": "python",
   "name": "python3"
  },
  "language_info": {
   "codemirror_mode": {
    "name": "ipython",
    "version": 3
   },
   "file_extension": ".py",
   "mimetype": "text/x-python",
   "name": "python",
   "nbconvert_exporter": "python",
   "pygments_lexer": "ipython3",
   "version": "3.9.7"
  }
 },
 "nbformat": 4,
 "nbformat_minor": 5
}
